{
 "cells": [
  {
   "cell_type": "markdown",
   "metadata": {
    "collapsed": true,
    "pycharm": {
     "name": "#%% md\n"
    }
   },
   "source": [
    "# A new approach for EEG feature extraction in P300-based lie detection\n",
    "\n",
    "<p style=\"color:rgb(47,79,79);font-size:1.9vh;\"> <i>Vahid Abootalebi</i><sup>a,b,d</sup>| <i>Mohammad Hassan Moradi</i> <sup>b</sup>| <i>Mohammad Ali Khalilzadeh</i> <sup>c,d</sup></p>\n",
    "\n",
    "\n",
    "<sup>a</sup> Electrical Engineering Department, Yazd University, Yazd, Iran\n",
    "<br>\n",
    "<sup>b</sup> Biomedical Engineering Faculty, Amirkabir University of Technology, Tehran, Iran\n",
    "<br>\n",
    "<sup>c</sup> Islamic Azad University, Mashhad Branch, Iran\n",
    "<br>\n",
    "<sup>c</sup> Research Center of Intelligent Signal Processing, Tehran, Iran\n",
    "\n",
    "![alt text](img/logo.svg \"Logo\")\n",
    "\n",
    "https://doi.org/10.1016/j.cmpb.2008.10.001\n",
    "\n",
    "## Abstract\n",
    "P300-based Guilty Knowledge Test (GKT) has been suggested as an alternative approach for conventional polygraphy.\n",
    "\n",
    "The purpose of this study was to extend a previously introduced pattern recognition method for the ERP assessment\n",
    "in this application. This extension was done by the further extending the feature set and also employing\n",
    "a method for the selection of optimal features.\n",
    "\n",
    "For the evaluation of the method, several subjects went\n",
    "through the designed \"Guilty Knowledge Test\" paradigm and their respective brain signals were recorded. Next, a P300 detection\n",
    "approach based on some features and a statistical classifier was implemented.\n",
    "The optimal feature set was\n",
    "selected using a genetic algorithm from a primary feature set including some morphological, frequency and\n",
    "wavelet features and was used for the classification of the data. The rates of correct detection in guilty\n",
    "and innocent subjects were 86%, which was better than other previously used methods."
   ]
  },
  {
   "cell_type": "markdown",
   "metadata": {
    "pycharm": {
     "name": "#%% md\n"
    }
   },
   "source": [
    "## Feature Extraction\n",
    "\n",
    "The following features were described by the original paper, but they were not implemented. I offer an implementation of them in Python, as well as mathematical definitions for each.\n",
    "\n",
    "#### Morphological Features\n",
    "###### Latency (LAT, $t_{S_{max}}$)\n",
    "the ERP’s latency time, i.e. the time\n",
    "where the maximum signal value appears:\n",
    "\n",
    "$ t_{S_{max}} = {t|s(t) = s_{max}} $\n",
    "\n",
    "\n",
    "###### Amplitude (AMP, $S_{max}$)\n",
    "—the maximum signal value:\n",
    "\n",
    "$ s_{max} = max\\{s(t)\\} $\n",
    "\n",
    "###### Latency/Amplitude ratio (LAR, $t_{S_{max}}/S_{max}$)\n",
    "\n",
    "\n",
    "###### Absolute amplitude (AAMP, |$S_{max}$|)\n",
    "\n",
    "\n",
    "\n",
    "###### Absolute latency/amplitude ratio (ALAR, |$t_{s_{max}}/s_{max}$|)\n",
    "\n",
    "###### Positive area (PAR, $A_{p}$)\n",
    "The sum of positive signal values:\n",
    "\n",
    "$  A_{p} = \\sum_{t=400ms}^{800ms} 0.5(s(t) + |s(t)|) $\n",
    "###### Negative area\n",
    "The sum of negative signal values:\n",
    "\n",
    "$  A_{p} = \\sum_{t=400ms}^{800ms} 0.5(s(t) - |s(t)|) $\n",
    "###### Total area (TAR, $A_{pn}$)\n",
    "$A_{pn} = A_{p} + A_{n}$\n",
    "###### Total absolute area (TAAR, $A_{p|n|}$)\n",
    " $A_{pn} = A_{p} + |A_{n}|$\n",
    "###### Average absolute signal slope (AASS, $\\dot{s}$)\n",
    "$   \\dot{s}  = \\frac{1}{n} \\sum_{t=400ms}^{800ms-r} \\frac{1}{\\tau}(s(t+\\tau) - |s(t)|) $\n",
    "\n",
    "Where the $\\tau$ is the sampling interval of the signal, n the number of samples of the digital signal, and s(t) the signal value of the tth sample.\n",
    "###### Peak-to-peak (PP, pp)\n",
    "$pp = s_{max} - s_{min}$\n",
    "Where s_{max} and s_{min} are the maximum and the minimum signal values, respectively.\n",
    "###### Peak-to-peak time window (PPT, $t_{pp}$)\n",
    "$t_{pp} = t_{s_{max}} - t_{s_{min}}$\n",
    "###### Peak-to peak slope (PPS, $\\dot{s}_{pp}$)\n",
    "$\\dot{s}_{pp} = \\frac{pp}{t_{pp}}$\n",
    "###### Zero crossings (ZC, $n_{ZC}$)\n",
    "the number of times t that s(t)=0, in peak-to-peak time window:\n",
    "\n",
    "$ n_{ZC} = \\sum_{t=t_{s_{min}}}^{t_{s_{max}}} \\delta_{s} $\n",
    "\n",
    "where \\delta_{s} = 1 if s(t)=0, 0 otherwise\n",
    "\n",
    "\n",
    "###### Zero crossings density (ZCD, d_{zc})\n",
    "Zero crossings per time unit, in peak-to-peak time window:\n",
    "\n",
    "$ d_{ZC} = \\frac{n_{ZC}}{t_{pp}} $\n",
    "\n",
    "where n_{ZC} are the zero crossings and t_{pp} is the peak-to-peak time window."
   ]
  },
  {
   "cell_type": "code",
   "execution_count": 6,
   "metadata": {},
   "outputs": [
    {
     "data": {
      "text/html": [
       "<script>\n",
       "code_show=true;\n",
       "function code_toggle() {\n",
       " if (code_show){\n",
       " $('div.input').hide();\n",
       " } else {\n",
       " $('div.input').show();\n",
       " }\n",
       " code_show = !code_show\n",
       "}\n",
       "$( document ).ready(code_toggle);\n",
       "</script>\n",
       "<form action=\"javascript:code_toggle()\"><input type=\"submit\" value=\"Click here to toggle on/off the raw code.\"></form>"
      ],
      "text/plain": [
       "<IPython.core.display.HTML object>"
      ]
     },
     "execution_count": 6,
     "metadata": {},
     "output_type": "execute_result"
    }
   ],
   "source": [
    "\n",
    "from IPython.display import HTML\n",
    "\n",
    "HTML('''<script>\n",
    "code_show=true;\n",
    "function code_toggle() {\n",
    " if (code_show){\n",
    " $('div.input').hide();\n",
    " } else {\n",
    " $('div.input').show();\n",
    " }\n",
    " code_show = !code_show\n",
    "}\n",
    "$( document ).ready(code_toggle);\n",
    "</script>\n",
    "<form action=\"javascript:code_toggle()\"><input type=\"submit\" value=\"Click here to toggle on/off the raw code.\"></form>''')"
   ]
  },
  {
   "cell_type": "code",
   "execution_count": 1,
   "metadata": {
    "pycharm": {
     "name": "#%%\n"
    }
   },
   "outputs": [],
   "source": [
    "import numpy as np\n",
    "\n",
    "def signal_slope_f(row):\n",
    "    total = 0.0\n",
    "    for idx, val in enumerate(row[:-1]):\n",
    "        total += np.abs(row[idx+1] - val)\n",
    "    total /= len(row)\n",
    "    return total\n",
    "\n",
    "def latency(row):\n",
    "    return row.argmax()\n",
    "\n",
    "def positive_area(row):\n",
    "    return row[row>0].sum()\n",
    "\n",
    "def negative_area(row):\n",
    "    return row[row<0].sum()\n",
    "\n",
    "def zero_crossing(row):\n",
    "    return np.where(np.diff(np.sign(row[row.argmin():row.argmax()])))[0].size\n"
   ]
  },
  {
   "cell_type": "markdown",
   "metadata": {
    "pycharm": {
     "name": "#%% md\n"
    }
   },
   "source": [
    "#### Frequency features\n",
    "\n",
    "###### Mode frequency:\n",
    "\n",
    "$f_{mode}$ is the frequency with the most energy content in the\n",
    "signal spectrum, so the maximum amplitude in the power\n",
    "spectrum density of the signal is at this frequency:\n",
    "\n",
    "$S(f_{mode}) = Max_f\\{S(f)\\}$\n",
    "S is the power spectral density of signal and f is frequency.\n",
    "\n",
    "###### Median frequency:\n",
    "Median frequency ($f_{median}$) separates the power spectrum\n",
    "into two equal energy areas and is calculated from the\n",
    "following equation:\n",
    "\n",
    "$$ \\int_{0}^{f{median}} S(f) df = \\int_{f{median}}^{\\infty} S(f) df $$\n"
   ]
  },
  {
   "cell_type": "code",
   "execution_count": 2,
   "metadata": {
    "pycharm": {
     "name": "#%%\n"
    }
   },
   "outputs": [],
   "source": [
    "import pandas as pd\n",
    "from scipy import signal\n",
    "from numpy import trapz\n",
    "\n",
    "\n",
    "def mode_freq_f(row):\n",
    "    test_signal = pd.to_numeric(row)\n",
    "    freqs, psd = signal.welch(test_signal.values, fs = 250)\n",
    "    return 10**(freqs[np.argmax(psd)])\n",
    "\n",
    "\n",
    "def median_freq_f(row):\n",
    "    test_signal = pd.to_numeric(row)\n",
    "    freqs, psd = signal.welch(test_signal.values, fs = 250)\n",
    "    total_area = trapz(psd,freqs)\n",
    "    half_area = total_area/2\n",
    "    integral_values = np.array([abs(trapz(psd[:i],freqs[:i]) - half_area) for i in range(len(freqs))])\n",
    "    return freqs[np.argmin(integral_values)]"
   ]
  },
  {
   "cell_type": "markdown",
   "metadata": {
    "pycharm": {
     "name": "#%% md\n"
    }
   },
   "source": [
    "## Learn more\n"
   ]
  },
  {
   "cell_type": "code",
   "execution_count": 3,
   "metadata": {
    "pycharm": {
     "name": "#%%\n"
    }
   },
   "outputs": [
    {
     "data": {
      "image/jpeg": "[encoded data removed]",
      "text/html": [
       "\n",
       "        <iframe\n",
       "            width=\"800\"\n",
       "            height=\"600\"\n",
       "            src=\"https://www.youtube.com/embed/N2H4NTAZrhY\"\n",
       "            frameborder=\"0\"\n",
       "            allowfullscreen\n",
       "        ></iframe>\n",
       "        "
      ],
      "text/plain": [
       "<IPython.lib.display.YouTubeVideo at 0x26598c64d00>"
      ]
     },
     "execution_count": 3,
     "metadata": {},
     "output_type": "execute_result"
    }
   ],
   "source": [
    "from IPython.display import YouTubeVideo\n",
    "\n",
    "YouTubeVideo('N2H4NTAZrhY', width=800, height=600)"
   ]
  },
  {
   "cell_type": "code",
   "execution_count": 4,
   "metadata": {
    "pycharm": {
     "name": "#%%\n"
    }
   },
   "outputs": [
    {
     "data": {
      "image/jpeg": "[encoded data removed]",
      "text/html": [
       "\n",
       "        <iframe\n",
       "            width=\"800\"\n",
       "            height=\"600\"\n",
       "            src=\"https://www.youtube.com/embed/nZEFgC0oHpA\"\n",
       "            frameborder=\"0\"\n",
       "            allowfullscreen\n",
       "        ></iframe>\n",
       "        "
      ],
      "text/plain": [
       "<IPython.lib.display.YouTubeVideo at 0x26598c64fa0>"
      ]
     },
     "execution_count": 4,
     "metadata": {},
     "output_type": "execute_result"
    }
   ],
   "source": [
    "YouTubeVideo('nZEFgC0oHpA', width=800, height=600)"
   ]
  },
  {
   "cell_type": "code",
   "execution_count": null,
   "metadata": {
    "pycharm": {
     "name": "#%%\n"
    }
   },
   "outputs": [],
   "source": []
  },
  {
   "cell_type": "code",
   "execution_count": null,
   "metadata": {},
   "outputs": [],
   "source": []
  }
 ],
 "metadata": {
  "kernelspec": {
   "display_name": "Python 3",
   "language": "python",
   "name": "python3"
  },
  "language_info": {
   "codemirror_mode": {
    "name": "ipython",
    "version": 3
   },
   "file_extension": ".py",
   "mimetype": "text/x-python",
   "name": "python",
   "nbconvert_exporter": "python",
   "pygments_lexer": "ipython3",
   "version": "3.6.12"
  }
 },
 "nbformat": 4,
 "nbformat_minor": 1
}
